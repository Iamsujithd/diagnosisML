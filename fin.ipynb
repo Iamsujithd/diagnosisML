{
 "cells": [
  {
   "cell_type": "code",
   "execution_count": 11,
   "id": "ee57fa49-1639-4ba5-bbb6-84d3621dc720",
   "metadata": {},
   "outputs": [
    {
     "name": "stdout",
     "output_type": "stream",
     "text": [
      "Model Accuracy: 100.00%\n",
      "Please enter the presence of the following symptoms (1 for Yes, 0 for No):\n"
     ]
    },
    {
     "name": "stdin",
     "output_type": "stream",
     "text": [
      "itching:  1\n",
      "skin_rash:  0\n",
      "nodal_skin_eruptions:  1\n",
      "continuous_sneezing:  0\n",
      "shivering:  1\n",
      "chills:  0\n",
      "joint_pain:  1\n",
      "stomach_pain:  0\n",
      "acidity:  0\n",
      "ulcers_on_tongue:  0\n",
      "muscle_wasting:  0\n",
      "vomiting:  0\n",
      "burning_micturition:  0\n",
      "spotting_ urination:  0\n",
      "fatigue:  0\n",
      "weight_gain:  0\n",
      "anxiety:  0\n",
      "cold_hands_and_feets:  0\n",
      "mood_swings:  0\n",
      "weight_loss:  0\n",
      "restlessness:  0\n",
      "lethargy:  0\n",
      "patches_in_throat:  0\n",
      "irregular_sugar_level:  0\n",
      "cough:  0\n",
      "high_fever:  0\n",
      "sunken_eyes:  1\n",
      "breathlessness:  1\n",
      "sweating:  1\n",
      "dehydration:  1\n",
      "indigestion:  10\n"
     ]
    },
    {
     "name": "stdout",
     "output_type": "stream",
     "text": [
      "Invalid input. Please enter 1 for Yes, 0 for No.\n"
     ]
    },
    {
     "name": "stdin",
     "output_type": "stream",
     "text": [
      "indigestion:  1\n",
      "headache:  0\n",
      "yellowish_skin:  1\n",
      "dark_urine:  0\n",
      "nausea:  1\n",
      "loss_of_appetite:  0\n",
      "pain_behind_the_eyes:  1\n",
      "back_pain:  yes\n",
      "constipation:  no\n",
      "abdominal_pain:  yes\n",
      "diarrhoea:  YES\n",
      "mild_fever:  No\n",
      "yellow_urine:  0\n",
      "yellowing_of_eyes:  0\n",
      "acute_liver_failure:  0\n",
      "fluid_overload:  0\n",
      "swelling_of_stomach:  0\n",
      "swelled_lymph_nodes:  0\n",
      "malaise:  0\n",
      "blurred_and_distorted_vision:  0\n",
      "phlegm:  0\n",
      "throat_irritation:  0\n",
      "redness_of_eyes:  0\n",
      "sinus_pressure:  0\n",
      "runny_nose:  1\n",
      "congestion:  1\n",
      "chest_pain:  10\n"
     ]
    },
    {
     "name": "stdout",
     "output_type": "stream",
     "text": [
      "Invalid input. Please enter 1 for Yes, 0 for No.\n"
     ]
    },
    {
     "name": "stdin",
     "output_type": "stream",
     "text": [
      "chest_pain:  \n"
     ]
    },
    {
     "name": "stdout",
     "output_type": "stream",
     "text": [
      "Invalid input. Please enter 1 for Yes, 0 for No.\n"
     ]
    },
    {
     "name": "stdin",
     "output_type": "stream",
     "text": [
      "chest_pain:  1\n",
      "weakness_in_limbs:  01\n"
     ]
    },
    {
     "name": "stdout",
     "output_type": "stream",
     "text": [
      "Invalid input. Please enter 1 for Yes, 0 for No.\n"
     ]
    },
    {
     "name": "stdin",
     "output_type": "stream",
     "text": [
      "weakness_in_limbs:  1\n",
      "fast_heart_rate:  0\n",
      "pain_during_bowel_movements:  0\n",
      "pain_in_anal_region:  0\n",
      "bloody_stool:  0\n",
      "irritation_in_anus:  0\n",
      "neck_pain:  00\n"
     ]
    },
    {
     "name": "stdout",
     "output_type": "stream",
     "text": [
      "Invalid input. Please enter 1 for Yes, 0 for No.\n"
     ]
    },
    {
     "name": "stdin",
     "output_type": "stream",
     "text": [
      "neck_pain:  0\n",
      "dizziness:  \n"
     ]
    },
    {
     "name": "stdout",
     "output_type": "stream",
     "text": [
      "Invalid input. Please enter 1 for Yes, 0 for No.\n"
     ]
    },
    {
     "name": "stdin",
     "output_type": "stream",
     "text": [
      "dizziness:  1\n",
      "cramps:  1\n",
      "bruising:  1\n",
      "obesity:  1\n",
      "swollen_legs:  1\n",
      "swollen_blood_vessels:  1\n",
      "puffy_face_and_eyes:  1\n",
      "enlarged_thyroid:  1\n",
      "brittle_nails:  1\n",
      "swollen_extremeties:  1\n",
      "excessive_hunger:  1\n",
      "extra_marital_contacts:  1\n",
      "drying_and_tingling_lips:  1\n",
      "slurred_speech:  10\n"
     ]
    },
    {
     "name": "stdout",
     "output_type": "stream",
     "text": [
      "Invalid input. Please enter 1 for Yes, 0 for No.\n"
     ]
    },
    {
     "name": "stdin",
     "output_type": "stream",
     "text": [
      "slurred_speech:  0\n",
      "knee_pain:  0\n",
      "hip_joint_pain:  0\n",
      "muscle_weakness:  0\n",
      "stiff_neck:  0\n",
      "swelling_joints:  0\n",
      "movement_stiffness:  0\n",
      "spinning_movements:  0\n",
      "loss_of_balance:  0\n",
      "unsteadiness:  0\n",
      "weakness_of_one_body_side:  0\n",
      "loss_of_smell:  1\n",
      "bladder_discomfort:  11\n"
     ]
    },
    {
     "name": "stdout",
     "output_type": "stream",
     "text": [
      "Invalid input. Please enter 1 for Yes, 0 for No.\n"
     ]
    },
    {
     "name": "stdin",
     "output_type": "stream",
     "text": [
      "bladder_discomfort:  1\n",
      "foul_smell_of urine:  0\n",
      "continuous_feel_of_urine:  0\n",
      "passage_of_gases:  0\n",
      "internal_itching:  0\n",
      "toxic_look_(typhos):  0\n",
      "depression:  0\n",
      "irritability:  0\n",
      "muscle_pain:  0\n",
      "altered_sensorium:  0\n",
      "red_spots_over_body:  0\n",
      "belly_pain:  0\n",
      "abnormal_menstruation:  0\n",
      "dischromic _patches:  0\n",
      "watering_from_eyes:  0\n",
      "increased_appetite:  0\n",
      "polyuria:  0\n",
      "family_history:  0\n",
      "mucoid_sputum:  0\n",
      "rusty_sputum:  0\n",
      "lack_of_concentration:  0\n",
      "visual_disturbances:  0\n",
      "receiving_blood_transfusion:  0\n",
      "receiving_unsterile_injections:  0\n",
      "coma:  0\n",
      "stomach_bleeding:  \n"
     ]
    },
    {
     "name": "stdout",
     "output_type": "stream",
     "text": [
      "Invalid input. Please enter 1 for Yes, 0 for No.\n"
     ]
    },
    {
     "name": "stdin",
     "output_type": "stream",
     "text": [
      "stomach_bleeding:  0\n",
      "distention_of_abdomen:  \n"
     ]
    },
    {
     "name": "stdout",
     "output_type": "stream",
     "text": [
      "Invalid input. Please enter 1 for Yes, 0 for No.\n"
     ]
    },
    {
     "name": "stdin",
     "output_type": "stream",
     "text": [
      "distention_of_abdomen:  0\n",
      "history_of_alcohol_consumption:  0\n",
      "fluid_overload.1:  0\n",
      "blood_in_sputum:  0\n",
      "prominent_veins_on_calf:  0\n",
      "palpitations:  0\n",
      "painful_walking:  0\n",
      "pus_filled_pimples:  0\n",
      "blackheads:  0\n",
      "scurring:  0\n",
      "skin_peeling:  0\n",
      "silver_like_dusting:  0\n",
      "small_dents_in_nails:  0\n",
      "inflammatory_nails:  0\n",
      "blister:  0\n",
      "red_sore_around_nose:  0\n",
      "yellow_crust_ooze:  0\n"
     ]
    },
    {
     "name": "stdout",
     "output_type": "stream",
     "text": [
      "\n",
      "Predicted Prognosis: Hypothyroidism\n",
      "Confidence Level: 24.00%\n"
     ]
    }
   ],
   "source": [
    "import pandas as pd\n",
    "from sklearn.ensemble import RandomForestClassifier\n",
    "from sklearn.model_selection import train_test_split\n",
    "from sklearn.metrics import accuracy_score\n",
    "\n",
    "# Load the training and testing data\n",
    "train_data = pd.read_csv('Training.csv')\n",
    "test_data = pd.read_csv('Testing.csv')\n",
    "\n",
    "# Assuming the last column is the target (prognosis) and the rest are features (symptoms)\n",
    "X_train = train_data.iloc[:, :-1]\n",
    "y_train = train_data.iloc[:, -1]\n",
    "X_test = test_data.iloc[:, :-1]\n",
    "y_test = test_data.iloc[:, -1]\n",
    "\n",
    "# Train the Random Forest model\n",
    "rf_model = RandomForestClassifier(n_estimators=100, random_state=42)\n",
    "rf_model.fit(X_train, y_train)\n",
    "\n",
    "# Evaluate the model on the test set\n",
    "y_pred = rf_model.predict(X_test)\n",
    "accuracy = accuracy_score(y_test, y_pred)\n",
    "print(f\"Model Accuracy: {accuracy * 100:.2f}%\")\n",
    "\n",
    "# Function to predict prognosis based on user input symptoms\n",
    "def predict_prognosis(symptoms):\n",
    "    # Convert the input symptoms to a dataframe\n",
    "    input_data = pd.DataFrame([symptoms], columns=X_train.columns)\n",
    "    \n",
    "    # Predict prognosis\n",
    "    prediction = rf_model.predict(input_data)[0]\n",
    "    prediction_proba = rf_model.predict_proba(input_data)[0]\n",
    "    \n",
    "    # Find the confidence of the prediction\n",
    "    confidence = max(prediction_proba) * 100\n",
    "    \n",
    "    return prediction, confidence\n",
    "\n",
    "# Interactive symptom input\n",
    "def get_user_input():\n",
    "    symptoms = {}\n",
    "    print(\"Please enter the presence of the following symptoms (1 for Yes, 0 for No):\")\n",
    "    for symptom in X_train.columns:\n",
    "        while True:\n",
    "            try:\n",
    "                value = input(f\"{symptom}: \").strip().lower()\n",
    "                if value in ['1', '0', 'yes', 'no']:\n",
    "                    symptoms[symptom] = 1 if value in ['1', 'yes'] else 0\n",
    "                    break\n",
    "                else:\n",
    "                    print(\"Invalid input. Please enter 1 for Yes, 0 for No.\")\n",
    "            except ValueError:\n",
    "                print(\"Invalid input. Please enter 1 for Yes, 0 for No.\")\n",
    "    return symptoms\n",
    "\n",
    "# Main function to run the interactive prediction\n",
    "def main():\n",
    "    symptoms = get_user_input()\n",
    "    if all(value == 0 for value in symptoms.values()):\n",
    "        print(\"\\nNo symptoms selected. Unable to provide a prognosis based on no symptoms.\")\n",
    "    else:\n",
    "        prognosis, confidence = predict_prognosis(symptoms)\n",
    "        print(f\"\\nPredicted Prognosis: {prognosis}\")\n",
    "        print(f\"Confidence Level: {confidence:.2f}%\")\n",
    "\n",
    "if __name__ == \"__main__\":\n",
    "    main()\n"
   ]
  },
  {
   "cell_type": "code",
   "execution_count": null,
   "id": "fb01574e-e659-452c-afd3-7eaf816beb70",
   "metadata": {},
   "outputs": [],
   "source": []
  }
 ],
 "metadata": {
  "kernelspec": {
   "display_name": "Python 3 (ipykernel)",
   "language": "python",
   "name": "python3"
  },
  "language_info": {
   "codemirror_mode": {
    "name": "ipython",
    "version": 3
   },
   "file_extension": ".py",
   "mimetype": "text/x-python",
   "name": "python",
   "nbconvert_exporter": "python",
   "pygments_lexer": "ipython3",
   "version": "3.11.7"
  }
 },
 "nbformat": 4,
 "nbformat_minor": 5
}
